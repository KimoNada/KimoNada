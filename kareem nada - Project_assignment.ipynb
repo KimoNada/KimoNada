{
 "cells": [
  {
   "cell_type": "markdown",
   "metadata": {},
   "source": [
    "# Project 1:\n",
    "    - using thanos backup images, put them inside universe directory\n",
    "    - loop through the files inside the directory\n",
    "        - for each file in the directory\n",
    "            - generate a random name from the english letters - google list of english letters in python -\n",
    "            - rename the images inside the  `universe` directory to the generated one "
   ]
  },
  {
   "cell_type": "code",
   "execution_count": 27,
   "metadata": {},
   "outputs": [],
   "source": [
    "import random , os , string\n",
    "#will define a function to rename multiple files and save them in new directory\n",
    "def main():\n",
    "    #define old directory as a list variable to iterate \n",
    "    prev = os.listdir( 'E:\\\\برمجه 2022\\\\Codes & Projects\\\\Project 1\\\\backup-20220416T112516Z-001\\\\backup')\n",
    "    #creating new directory\n",
    "    new = os.mkdir('universe\\\\')\n",
    "\n",
    "    for rand,filename in enumerate(prev):\n",
    "        #here i know that should be iteration but i tried many times and didn`t get it , so i need help to get it `\n",
    "        rand = f\"{random.choice(string.ascii_letters)}{random.choice(string.ascii_letters)}{random.choice(string.ascii_letters)}.png\"\n",
    "        src = f\"{'E:/برمجه 2022/Codes & Projects/Project 1/backup-20220416T112516Z-001/backup'}/{filename}\"\n",
    "        dst = f\"{'E:/برمجه 2022/Codes & Projects/Project 1/universe/'}/{rand}\"\n",
    "\n",
    "        os.rename(src,dst)\n",
    "if __name__=='__main__':\n",
    "    main()\n",
    "    "
   ]
  },
  {
   "cell_type": "code",
   "execution_count": 30,
   "metadata": {},
   "outputs": [
    {
     "name": "stdout",
     "output_type": "stream",
     "text": [
      "['aEl.png', 'BJX.png', 'Bpl.png', 'Cld.png', 'CMD.png', 'Dgq.png', 'DhZ.png', 'DYf.png', 'ehr.png', 'fBe.png', 'gAe.png', 'GAP.png', 'gJc.png', 'Gty.png', 'haY.png', 'hQI.png', 'iES.png', 'IiS.png', 'iuL.png', 'jTc.png', 'lTL.png', 'lzx.png', 'MAc.png', 'mvS.png', 'okY.png', 'OQl.png', 'pAj.png', 'pgx.png', 'PqZ.png', 'qlH.png', 'qLk.png', 'Qqi.png', 'SAG.png', 'sgF.png', 'shT.png', 'SQN.png', 'teV.png', 'tHD.png', 'THF.png', 'tQR.png', 'tSu.png', 'Tza.png', 'uol.png', 'VKC.png', 'Wcq.png', 'woW.png', 'XPI.png', 'XSe.png', 'xzY.png', 'yam.png']\n",
      "50\n"
     ]
    }
   ],
   "source": [
    "#just for check out if it works \n",
    "new_dir= os.listdir('E:\\\\برمجه 2022\\\\Codes & Projects\\\\Project 1\\\\universe')\n",
    "print(new_dir)\n",
    "print(len(new_dir))"
   ]
  }
 ],
 "metadata": {
  "interpreter": {
   "hash": "5a60be1f4048a998826e527ae29d9160ae50a1542702ee97a513185db9d55ee0"
  },
  "kernelspec": {
   "display_name": "Python 3.9.7 ('base')",
   "language": "python",
   "name": "python3"
  },
  "language_info": {
   "codemirror_mode": {
    "name": "ipython",
    "version": 3
   },
   "file_extension": ".py",
   "mimetype": "text/x-python",
   "name": "python",
   "nbconvert_exporter": "python",
   "pygments_lexer": "ipython3",
   "version": "3.9.7"
  },
  "orig_nbformat": 4
 },
 "nbformat": 4,
 "nbformat_minor": 2
}
